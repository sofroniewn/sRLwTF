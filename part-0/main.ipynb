{
 "cells": [
  {
   "cell_type": "markdown",
   "metadata": {},
   "source": [
    "## Simple Reinforcemet Learning with TensorFlow\n",
    "Notebooks to accompany tutorials by @awjuliani\n",
    "\n",
    "### Part-0: Q-learning with tables and neural networks"
   ]
  },
  {
   "cell_type": "markdown",
   "metadata": {
    "collapsed": true
   },
   "source": [
    "This tutorial will use the _Frozen Lake_ environment from the OpenAI gym. In the _Frozen Lake_ there is a discrete _observation space_ with 16 states, each corresponding to the position on a 4x4 grid. There is a disctete _action space_ corresponding to movement in the four cardinal directions."
   ]
  },
  {
   "cell_type": "markdown",
   "metadata": {},
   "source": [
    "### Q-table learning"
   ]
  },
  {
   "cell_type": "code",
   "execution_count": 15,
   "metadata": {
    "collapsed": false
   },
   "outputs": [
    {
     "name": "stderr",
     "output_type": "stream",
     "text": [
      "[2017-03-20 19:52:45,807] Making new env: FrozenLake-v0\n",
      "[2017-03-20 19:52:45,826] Clearing 24 monitor files from previous run (because force=True was provided)\n",
      "[2017-03-20 19:52:45,831] Starting new video recorder writing to /Users/sofroniewn/Github/sRLwTF/part-0/results/Q-table-experiment-1/openaigym.video.1.3538.video000000.json\n",
      "[2017-03-20 19:52:45,835] Starting new video recorder writing to /Users/sofroniewn/Github/sRLwTF/part-0/results/Q-table-experiment-1/openaigym.video.1.3538.video000001.json\n",
      "[2017-03-20 19:52:45,852] Starting new video recorder writing to /Users/sofroniewn/Github/sRLwTF/part-0/results/Q-table-experiment-1/openaigym.video.1.3538.video000008.json\n",
      "[2017-03-20 19:52:45,872] Starting new video recorder writing to /Users/sofroniewn/Github/sRLwTF/part-0/results/Q-table-experiment-1/openaigym.video.1.3538.video000027.json\n",
      "[2017-03-20 19:52:45,904] Starting new video recorder writing to /Users/sofroniewn/Github/sRLwTF/part-0/results/Q-table-experiment-1/openaigym.video.1.3538.video000064.json\n",
      "[2017-03-20 19:52:45,946] Starting new video recorder writing to /Users/sofroniewn/Github/sRLwTF/part-0/results/Q-table-experiment-1/openaigym.video.1.3538.video000125.json\n",
      "[2017-03-20 19:52:45,998] Starting new video recorder writing to /Users/sofroniewn/Github/sRLwTF/part-0/results/Q-table-experiment-1/openaigym.video.1.3538.video000216.json\n",
      "[2017-03-20 19:52:46,059] Starting new video recorder writing to /Users/sofroniewn/Github/sRLwTF/part-0/results/Q-table-experiment-1/openaigym.video.1.3538.video000343.json\n",
      "[2017-03-20 19:52:46,348] Starting new video recorder writing to /Users/sofroniewn/Github/sRLwTF/part-0/results/Q-table-experiment-1/openaigym.video.1.3538.video000512.json\n",
      "[2017-03-20 19:52:46,788] Starting new video recorder writing to /Users/sofroniewn/Github/sRLwTF/part-0/results/Q-table-experiment-1/openaigym.video.1.3538.video000729.json\n",
      "[2017-03-20 19:52:47,338] Starting new video recorder writing to /Users/sofroniewn/Github/sRLwTF/part-0/results/Q-table-experiment-1/openaigym.video.1.3538.video001000.json\n",
      "[2017-03-20 19:52:49,326] Finished writing results. You can upload them to the scoreboard via gym.upload('/Users/sofroniewn/Github/sRLwTF/part-0/results/Q-table-experiment-1')\n"
     ]
    }
   ],
   "source": [
    "import gym\n",
    "from gym import wrappers\n",
    "from numpy import zeros, max, argmax\n",
    "from numpy.random import randn\n",
    "\n",
    "# Create environment\n",
    "env = gym.make('FrozenLake-v0')\n",
    "\n",
    "# Set seed\n",
    "env.seed(0)\n",
    "\n",
    "# Set directory for results\n",
    "env = wrappers.Monitor(env, './results/Q-table-experiment-1', force=True)\n",
    "\n",
    "# Initialize an empty Q table\n",
    "Q = zeros([env.observation_space.n, env.action_space.n])\n",
    "\n",
    "# Set learning parameters\n",
    "learning = 0.85\n",
    "discount = 0.99\n",
    "episodes = 2000\n",
    "\n",
    "for i in range(episodes):\n",
    "    #Reset environment and get first new observation\n",
    "    observation = env.reset()\n",
    "    done = False\n",
    "    j = 0\n",
    "    #The Q-Table learning algorithm\n",
    "    while j < 500:\n",
    "        j+=1\n",
    "        #Choose an action by greedily (with noise) picking from Q table\n",
    "        action = argmax(Q[observation, :] + randn(1,env.action_space.n)*(1./(i+1)))\n",
    "        #Get new state and reward from environment\n",
    "        observation1, reward, done, info = env.step(action)\n",
    "        #Update Q-Table with new knowledge\n",
    "        Q[observation, action] += learning*(reward + discount*max(Q[observation1, :]) - Q[observation, action])\n",
    "        observation = observation1\n",
    "        if done == True:\n",
    "            break\n",
    "env.close()    "
   ]
  },
  {
   "cell_type": "markdown",
   "metadata": {},
   "source": [
    "## Evaluate Results"
   ]
  },
  {
   "cell_type": "code",
   "execution_count": 48,
   "metadata": {
    "collapsed": false
   },
   "outputs": [
    {
     "data": {
      "text/plain": [
       "{'episode_t_value': None,\n",
       " 'error': 0.055377492419453826,\n",
       " 'mean': 0.54000000000000004,\n",
       " 'number_episodes': 2000,\n",
       " 'number_timesteps': 110691,\n",
       " 'seconds_in_total': 3.4773201942443848,\n",
       " 'seconds_to_solve': None,\n",
       " 'timestep_t_value': None}"
      ]
     },
     "execution_count": 48,
     "metadata": {},
     "output_type": "execute_result"
    }
   ],
   "source": [
    "directory = './results/Q-table-experiment-1'\n",
    "\n",
    "from gym.monitoring import load_results\n",
    "from gym.scoreboard.scoring import score_from_local\n",
    "results = load_results(directory)\n",
    "score = score_from_local(directory)\n",
    "score"
   ]
  },
  {
   "cell_type": "code",
   "execution_count": 49,
   "metadata": {
    "collapsed": false
   },
   "outputs": [
    {
     "data": {
      "text/html": [
       "<div class=\"vega-embed\" id=\"6fc38b1e-4128-4558-b257-eec875955c4a\"></div>\n",
       "\n",
       "<style>\n",
       ".vega-embed svg, .vega-embed canvas {\n",
       "  border: 1px dotted gray;\n",
       "}\n",
       "\n",
       ".vega-embed .vega-actions a {\n",
       "  margin-right: 6px;\n",
       "}\n",
       "</style>\n"
      ]
     },
     "metadata": {
      "jupyter-vega": "#6fc38b1e-4128-4558-b257-eec875955c4a"
     },
     "output_type": "display_data"
    },
    {
     "data": {
      "application/javascript": [
       "var spec = {\"data\": {\"values\": [{\"rewards\": 0.0, \"episode\": 9.995}, {\"rewards\": 0.0, \"episode\": 29.985}, {\"rewards\": 0.0, \"episode\": 49.975}, {\"rewards\": 0.0, \"episode\": 69.96499999999999}, {\"rewards\": 0.0, \"episode\": 89.95499999999998}, {\"rewards\": 0.0, \"episode\": 109.945}, {\"rewards\": 0.0, \"episode\": 129.93499999999997}, {\"rewards\": 0.0, \"episode\": 149.92499999999995}, {\"rewards\": 0.0, \"episode\": 169.91499999999996}, {\"rewards\": 0.0, \"episode\": 189.90499999999997}, {\"rewards\": 0.1, \"episode\": 209.89499999999992}, {\"rewards\": 0.05, \"episode\": 229.885}, {\"rewards\": 0.05, \"episode\": 249.875}, {\"rewards\": 0.0, \"episode\": 269.865}, {\"rewards\": 0.05, \"episode\": 289.855}, {\"rewards\": 0.05, \"episode\": 309.845}, {\"rewards\": 0.0, \"episode\": 329.83500000000004}, {\"rewards\": 0.25, \"episode\": 349.82500000000005}, {\"rewards\": 0.15, \"episode\": 369.81500000000005}, {\"rewards\": 0.1, \"episode\": 389.80499999999984}, {\"rewards\": 0.05, \"episode\": 409.79499999999985}, {\"rewards\": 0.45, \"episode\": 429.78499999999985}, {\"rewards\": 0.1, \"episode\": 449.7750000000001}, {\"rewards\": 0.45, \"episode\": 469.7650000000003}, {\"rewards\": 0.4, \"episode\": 489.7550000000001}, {\"rewards\": 0.3, \"episode\": 509.7449999999999}, {\"rewards\": 0.3, \"episode\": 529.7349999999997}, {\"rewards\": 0.5, \"episode\": 549.7249999999999}, {\"rewards\": 0.25, \"episode\": 569.7150000000001}, {\"rewards\": 0.5, \"episode\": 589.7050000000004}, {\"rewards\": 0.55, \"episode\": 609.6950000000006}, {\"rewards\": 0.45, \"episode\": 629.6850000000004}, {\"rewards\": 0.5, \"episode\": 649.6750000000002}, {\"rewards\": 0.45, \"episode\": 669.665}, {\"rewards\": 0.5, \"episode\": 689.6549999999997}, {\"rewards\": 0.35, \"episode\": 709.6449999999995}, {\"rewards\": 0.6, \"episode\": 729.6349999999993}, {\"rewards\": 0.5, \"episode\": 749.625}, {\"rewards\": 0.4, \"episode\": 769.6150000000007}, {\"rewards\": 0.3, \"episode\": 789.6049999999996}, {\"rewards\": 0.45, \"episode\": 809.5949999999993}, {\"rewards\": 0.7, \"episode\": 829.585000000001}, {\"rewards\": 0.2, \"episode\": 849.5750000000007}, {\"rewards\": 0.15, \"episode\": 869.5650000000005}, {\"rewards\": 0.25, \"episode\": 889.5550000000003}, {\"rewards\": 0.45, \"episode\": 909.5450000000001}, {\"rewards\": 0.2, \"episode\": 929.5349999999999}, {\"rewards\": 0.3, \"episode\": 949.5249999999996}, {\"rewards\": 0.45, \"episode\": 969.5149999999994}, {\"rewards\": 0.3, \"episode\": 989.5049999999992}, {\"rewards\": 0.3, \"episode\": 1009.4950000000008}, {\"rewards\": 0.2, \"episode\": 1029.4850000000006}, {\"rewards\": 0.2, \"episode\": 1049.4750000000004}, {\"rewards\": 0.4, \"episode\": 1069.4650000000001}, {\"rewards\": 0.55, \"episode\": 1089.455}, {\"rewards\": 0.35, \"episode\": 1109.4449999999997}, {\"rewards\": 0.4, \"episode\": 1129.4349999999995}, {\"rewards\": 0.45, \"episode\": 1149.4249999999993}, {\"rewards\": 0.45, \"episode\": 1169.4150000000009}, {\"rewards\": 0.35, \"episode\": 1189.4050000000025}, {\"rewards\": 0.35, \"episode\": 1209.3950000000004}, {\"rewards\": 0.35, \"episode\": 1229.3849999999984}, {\"rewards\": 0.55, \"episode\": 1249.375}, {\"rewards\": 0.65, \"episode\": 1269.3650000000016}, {\"rewards\": 0.6, \"episode\": 1289.3549999999996}, {\"rewards\": 0.4, \"episode\": 1309.3449999999975}, {\"rewards\": 0.45, \"episode\": 1329.3349999999991}, {\"rewards\": 0.45, \"episode\": 1349.3250000000007}, {\"rewards\": 0.3, \"episode\": 1369.3149999999987}, {\"rewards\": 0.45, \"episode\": 1389.3050000000003}, {\"rewards\": 0.55, \"episode\": 1409.295000000002}, {\"rewards\": 0.4, \"episode\": 1429.2849999999999}, {\"rewards\": 0.3, \"episode\": 1449.2749999999978}, {\"rewards\": 0.35, \"episode\": 1469.2649999999994}, {\"rewards\": 0.6, \"episode\": 1489.255000000001}, {\"rewards\": 0.45, \"episode\": 1509.244999999999}, {\"rewards\": 0.4, \"episode\": 1529.2350000000006}, {\"rewards\": 0.2, \"episode\": 1549.2250000000022}, {\"rewards\": 0.55, \"episode\": 1569.2150000000001}, {\"rewards\": 0.5, \"episode\": 1589.204999999998}, {\"rewards\": 0.5, \"episode\": 1609.194999999996}, {\"rewards\": 0.5, \"episode\": 1629.184999999994}, {\"rewards\": 0.35, \"episode\": 1649.1749999999956}, {\"rewards\": 0.6, \"episode\": 1669.1650000000009}, {\"rewards\": 0.5, \"episode\": 1689.1549999999988}, {\"rewards\": 0.45, \"episode\": 1709.1449999999968}, {\"rewards\": 0.35, \"episode\": 1729.135000000002}, {\"rewards\": 0.3, \"episode\": 1749.125}, {\"rewards\": 0.3, \"episode\": 1769.114999999998}, {\"rewards\": 0.4, \"episode\": 1789.1050000000032}, {\"rewards\": 0.35, \"episode\": 1809.0950000000012}, {\"rewards\": 0.55, \"episode\": 1829.0849999999991}, {\"rewards\": 0.35, \"episode\": 1849.0750000000044}, {\"rewards\": 0.25, \"episode\": 1869.0650000000023}, {\"rewards\": 0.25, \"episode\": 1889.0550000000003}, {\"rewards\": 0.5, \"episode\": 1909.0449999999983}, {\"rewards\": 0.7, \"episode\": 1929.0349999999962}, {\"rewards\": 0.3, \"episode\": 1949.0250000000015}, {\"rewards\": 0.4, \"episode\": 1969.0149999999994}, {\"rewards\": 0.55, \"episode\": 1989.0049999999974}]}, \"encoding\": {\"y\": {\"field\": \"rewards\", \"scale\": {\"domain\": [0.0, 1.0]}, \"type\": \"quantitative\"}, \"x\": {\"field\": \"episode\", \"type\": \"quantitative\"}}, \"config\": {\"cell\": {\"width\": 500, \"height\": 350}}, \"mark\": \"line\"};\n",
       "var selector = \"#6fc38b1e-4128-4558-b257-eec875955c4a\";\n",
       "var type = \"vega-lite\";\n",
       "\n",
       "var output_area = this;\n",
       "require(['nbextensions/jupyter-vega/index'], function(vega) {\n",
       "  vega.render(selector, spec, type, output_area);\n",
       "}, function (err) {\n",
       "  if (err.requireType !== 'scripterror') {\n",
       "    throw(err);\n",
       "  }\n",
       "});\n"
      ]
     },
     "metadata": {
      "jupyter-vega": "#6fc38b1e-4128-4558-b257-eec875955c4a"
     },
     "output_type": "display_data"
    },
    {
     "data": {
      "image/png": "[encoded data removed]"
     },
     "metadata": {
      "jupyter-vega": "#6fc38b1e-4128-4558-b257-eec875955c4a"
     },
     "output_type": "display_data"
    }
   ],
   "source": [
    "from gym.scoreboard.scoring import compute_graph_stats\n",
    "CURR_EPISODE = 100\n",
    "graphs = compute_graph_stats(results['episode_lengths'], results['episode_rewards'], results['timestamps'], results['initial_reset_timestamp'], CURR_EPISODE)\n",
    "\n",
    "from pandas import DataFrame\n",
    "data = DataFrame({'episode': graphs['x_episode_y_reward']['x'],\n",
    "                  'rewards': graphs['x_episode_y_reward']['y']})\n",
    "\n",
    "from altair import Chart, Y, Scale\n",
    "\n",
    "chart = Chart(data).mark_line().encode(\n",
    "    x='episode',\n",
    "    y='rewards'\n",
    ")\n",
    "chart.encode(Y('rewards', scale=Scale(domain=[0, 1])))"
   ]
  },
  {
   "cell_type": "markdown",
   "metadata": {},
   "source": [
    "### Q-learning with Neural Networks"
   ]
  },
  {
   "cell_type": "markdown",
   "metadata": {},
   "source": [
    "Now we will use a neural network as a function approximator to approximate Q. The network takes a one-hot vector (1x16) and produces a vector of 4 Q values, one for each action."
   ]
  },
  {
   "cell_type": "code",
   "execution_count": 8,
   "metadata": {
    "collapsed": false
   },
   "outputs": [
    {
     "name": "stderr",
     "output_type": "stream",
     "text": [
      "[2017-03-21 22:27:12,681] Making new env: FrozenLake-v0\n",
      "[2017-03-21 22:27:12,695] Clearing 24 monitor files from previous run (because force=True was provided)\n"
     ]
    }
   ],
   "source": [
    "import gym\n",
    "from gym import wrappers\n",
    "from numpy import zeros, max, argmax\n",
    "from numpy.random import randn\n",
    "\n",
    "# Create environment\n",
    "env = gym.make('FrozenLake-v0')\n",
    "\n",
    "# Set seed\n",
    "env.seed(0)\n",
    "\n",
    "# Set directory for results\n",
    "env = wrappers.Monitor(env, './results/Q-network-experiment-2', force=True)"
   ]
  },
  {
   "cell_type": "markdown",
   "metadata": {},
   "source": [
    "### Implement the network"
   ]
  },
  {
   "cell_type": "code",
   "execution_count": 9,
   "metadata": {
    "collapsed": true
   },
   "outputs": [],
   "source": [
    "import tensorflow as tf\n",
    "tf.reset_default_graph()\n",
    "\n",
    "#These lines establish the feed-forward part of the network used to choose actions\n",
    "inputs1 = tf.placeholder(shape=[1,env.observation_space.n],dtype=tf.float32)\n",
    "W = tf.Variable(tf.random_uniform([env.observation_space.n, env.action_space.n],0,0.01))\n",
    "Qout = tf.matmul(inputs1,W)\n",
    "predict = tf.argmax(Qout,1)\n",
    "\n",
    "#Below we obtain the loss by taking the sum of squares difference between the target and prediction Q values.\n",
    "nextQ = tf.placeholder(shape=[1,env.action_space.n],dtype=tf.float32)\n",
    "loss = tf.reduce_sum(tf.square(nextQ - Qout))\n",
    "trainer = tf.train.GradientDescentOptimizer(learning_rate=0.1)\n",
    "updateModel = trainer.minimize(loss)"
   ]
  },
  {
   "cell_type": "markdown",
   "metadata": {},
   "source": [
    "### Train the network"
   ]
  },
  {
   "cell_type": "code",
   "execution_count": 10,
   "metadata": {
    "collapsed": false
   },
   "outputs": [
    {
     "name": "stderr",
     "output_type": "stream",
     "text": [
      "[2017-03-21 22:27:14,703] Starting new video recorder writing to /Users/sofroniewn/Github/sRLwTF/part-0/results/Q-network-experiment-2/openaigym.video.1.11367.video000000.json\n",
      "[2017-03-21 22:27:14,720] Starting new video recorder writing to /Users/sofroniewn/Github/sRLwTF/part-0/results/Q-network-experiment-2/openaigym.video.1.11367.video000001.json\n",
      "[2017-03-21 22:27:14,780] Starting new video recorder writing to /Users/sofroniewn/Github/sRLwTF/part-0/results/Q-network-experiment-2/openaigym.video.1.11367.video000008.json\n",
      "[2017-03-21 22:27:14,895] Starting new video recorder writing to /Users/sofroniewn/Github/sRLwTF/part-0/results/Q-network-experiment-2/openaigym.video.1.11367.video000027.json\n",
      "[2017-03-21 22:27:15,072] Starting new video recorder writing to /Users/sofroniewn/Github/sRLwTF/part-0/results/Q-network-experiment-2/openaigym.video.1.11367.video000064.json\n",
      "[2017-03-21 22:27:15,430] Starting new video recorder writing to /Users/sofroniewn/Github/sRLwTF/part-0/results/Q-network-experiment-2/openaigym.video.1.11367.video000125.json\n",
      "[2017-03-21 22:27:15,859] Starting new video recorder writing to /Users/sofroniewn/Github/sRLwTF/part-0/results/Q-network-experiment-2/openaigym.video.1.11367.video000216.json\n",
      "[2017-03-21 22:27:16,478] Starting new video recorder writing to /Users/sofroniewn/Github/sRLwTF/part-0/results/Q-network-experiment-2/openaigym.video.1.11367.video000343.json\n",
      "[2017-03-21 22:27:17,452] Starting new video recorder writing to /Users/sofroniewn/Github/sRLwTF/part-0/results/Q-network-experiment-2/openaigym.video.1.11367.video000512.json\n",
      "[2017-03-21 22:27:18,568] Starting new video recorder writing to /Users/sofroniewn/Github/sRLwTF/part-0/results/Q-network-experiment-2/openaigym.video.1.11367.video000729.json\n",
      "[2017-03-21 22:27:20,055] Starting new video recorder writing to /Users/sofroniewn/Github/sRLwTF/part-0/results/Q-network-experiment-2/openaigym.video.1.11367.video001000.json\n",
      "[2017-03-21 22:27:33,265] Finished writing results. You can upload them to the scoreboard via gym.upload('/Users/sofroniewn/Github/sRLwTF/part-0/results/Q-network-experiment-2')\n"
     ]
    }
   ],
   "source": [
    "from numpy import identity, max\n",
    "from numpy.random import rand\n",
    "\n",
    "init = tf.global_variables_initializer()\n",
    "\n",
    "# Set learning parameters\n",
    "discount = 0.99\n",
    "error = 0.1\n",
    "episodes = 2000\n",
    "\n",
    "with tf.Session() as sess:\n",
    "    sess.run(init)\n",
    "    for i in range(episodes):\n",
    "        #Reset environment and get first new observation\n",
    "        observation = env.reset()\n",
    "        done = False\n",
    "        j = 0\n",
    "        #The Q-Network\n",
    "        while j < 500:\n",
    "            j+=1\n",
    "            #Choose an action by greedily (with e chance of random action) from the Q-network\n",
    "            action, allQ = sess.run([predict, Qout], feed_dict={inputs1:identity(env.observation_space.n)[observation:observation+1]})\n",
    "            if rand(1) < error:\n",
    "                action[0] = env.action_space.sample()\n",
    "            #Get new state and reward from environment\n",
    "            observation1, reward, done, info = env.step(action[0])\n",
    "            #Obtain the Q' values by feeding the new state through our network\n",
    "            Q1 = sess.run(Qout, feed_dict={inputs1:identity(env.observation_space.n)[observation1:observation1+1]})\n",
    "            #Obtain maxQ' and set our target value for chosen action.\n",
    "            maxQ1 = max(Q1)\n",
    "            targetQ = allQ\n",
    "            targetQ[0, action[0]] = reward + discount*maxQ1\n",
    "            #Train our network using target and predicted Q values\n",
    "            _, W1 = sess.run([updateModel,W], feed_dict={inputs1:identity(env.observation_space.n)[observation:observation+1], nextQ:targetQ})\n",
    "            observation = observation1\n",
    "            if done == True:\n",
    "                #Reduce chance of random action as we train the model.\n",
    "                error = 1./((i/50) + 10)\n",
    "                break\n",
    "env.close()"
   ]
  },
  {
   "cell_type": "markdown",
   "metadata": {},
   "source": [
    "## Evaluate results"
   ]
  },
  {
   "cell_type": "code",
   "execution_count": 11,
   "metadata": {
    "collapsed": false
   },
   "outputs": [
    {
     "data": {
      "text/plain": [
       "{'episode_t_value': None,\n",
       " 'error': 0.039674602380793608,\n",
       " 'mean': 0.14999999999999999,\n",
       " 'number_episodes': 2000,\n",
       " 'number_timesteps': 20494,\n",
       " 'seconds_in_total': 18.54342794418335,\n",
       " 'seconds_to_solve': None,\n",
       " 'timestep_t_value': None}"
      ]
     },
     "execution_count": 11,
     "metadata": {},
     "output_type": "execute_result"
    }
   ],
   "source": [
    "directory = './results/Q-network-experiment-2'\n",
    "\n",
    "from gym.monitoring import load_results\n",
    "from gym.scoreboard.scoring import score_from_local\n",
    "results = load_results(directory)\n",
    "score = score_from_local(directory)\n",
    "score"
   ]
  },
  {
   "cell_type": "code",
   "execution_count": 12,
   "metadata": {
    "collapsed": false
   },
   "outputs": [
    {
     "data": {
      "text/html": [
       "<div class=\"vega-embed\" id=\"63c56f43-2637-46b5-84f7-eab79d9f7258\"></div>\n",
       "\n",
       "<style>\n",
       ".vega-embed svg, .vega-embed canvas {\n",
       "  border: 1px dotted gray;\n",
       "}\n",
       "\n",
       ".vega-embed .vega-actions a {\n",
       "  margin-right: 6px;\n",
       "}\n",
       "</style>\n"
      ]
     },
     "metadata": {
      "jupyter-vega": "#63c56f43-2637-46b5-84f7-eab79d9f7258"
     },
     "output_type": "display_data"
    },
    {
     "data": {
      "application/javascript": [
       "var spec = {\"data\": {\"values\": [{\"rewards\": 0.0, \"episode\": 9.995}, {\"rewards\": 0.0, \"episode\": 29.985}, {\"rewards\": 0.0, \"episode\": 49.975}, {\"rewards\": 0.0, \"episode\": 69.96499999999999}, {\"rewards\": 0.0, \"episode\": 89.95499999999998}, {\"rewards\": 0.0, \"episode\": 109.945}, {\"rewards\": 0.0, \"episode\": 129.93499999999997}, {\"rewards\": 0.0, \"episode\": 149.92499999999995}, {\"rewards\": 0.0, \"episode\": 169.91499999999996}, {\"rewards\": 0.0, \"episode\": 189.90499999999997}, {\"rewards\": 0.0, \"episode\": 209.89499999999992}, {\"rewards\": 0.0, \"episode\": 229.885}, {\"rewards\": 0.0, \"episode\": 249.875}, {\"rewards\": 0.0, \"episode\": 269.865}, {\"rewards\": 0.0, \"episode\": 289.855}, {\"rewards\": 0.0, \"episode\": 309.845}, {\"rewards\": 0.0, \"episode\": 329.83500000000004}, {\"rewards\": 0.0, \"episode\": 349.82500000000005}, {\"rewards\": 0.0, \"episode\": 369.81500000000005}, {\"rewards\": 0.0, \"episode\": 389.80499999999984}, {\"rewards\": 0.0, \"episode\": 409.79499999999985}, {\"rewards\": 0.0, \"episode\": 429.78499999999985}, {\"rewards\": 0.0, \"episode\": 449.7750000000001}, {\"rewards\": 0.0, \"episode\": 469.7650000000003}, {\"rewards\": 0.0, \"episode\": 489.7550000000001}, {\"rewards\": 0.0, \"episode\": 509.7449999999999}, {\"rewards\": 0.0, \"episode\": 529.7349999999997}, {\"rewards\": 0.0, \"episode\": 549.7249999999999}, {\"rewards\": 0.0, \"episode\": 569.7150000000001}, {\"rewards\": 0.0, \"episode\": 589.7050000000004}, {\"rewards\": 0.0, \"episode\": 609.6950000000006}, {\"rewards\": 0.0, \"episode\": 629.6850000000004}, {\"rewards\": 0.0, \"episode\": 649.6750000000002}, {\"rewards\": 0.0, \"episode\": 669.665}, {\"rewards\": 0.0, \"episode\": 689.6549999999997}, {\"rewards\": 0.0, \"episode\": 709.6449999999995}, {\"rewards\": 0.0, \"episode\": 729.6349999999993}, {\"rewards\": 0.0, \"episode\": 749.625}, {\"rewards\": 0.0, \"episode\": 769.6150000000007}, {\"rewards\": 0.05, \"episode\": 789.6049999999996}, {\"rewards\": 0.0, \"episode\": 809.5949999999993}, {\"rewards\": 0.0, \"episode\": 829.585000000001}, {\"rewards\": 0.0, \"episode\": 849.5750000000007}, {\"rewards\": 0.0, \"episode\": 869.5650000000005}, {\"rewards\": 0.0, \"episode\": 889.5550000000003}, {\"rewards\": 0.0, \"episode\": 909.5450000000001}, {\"rewards\": 0.0, \"episode\": 929.5349999999999}, {\"rewards\": 0.0, \"episode\": 949.5249999999996}, {\"rewards\": 0.0, \"episode\": 969.5149999999994}, {\"rewards\": 0.0, \"episode\": 989.5049999999992}, {\"rewards\": 0.0, \"episode\": 1009.4950000000008}, {\"rewards\": 0.0, \"episode\": 1029.4850000000006}, {\"rewards\": 0.05, \"episode\": 1049.4750000000004}, {\"rewards\": 0.0, \"episode\": 1069.4650000000001}, {\"rewards\": 0.0, \"episode\": 1089.455}, {\"rewards\": 0.0, \"episode\": 1109.4449999999997}, {\"rewards\": 0.05, \"episode\": 1129.4349999999995}, {\"rewards\": 0.0, \"episode\": 1149.4249999999993}, {\"rewards\": 0.0, \"episode\": 1169.4150000000009}, {\"rewards\": 0.0, \"episode\": 1189.4050000000025}, {\"rewards\": 0.0, \"episode\": 1209.3950000000004}, {\"rewards\": 0.0, \"episode\": 1229.3849999999984}, {\"rewards\": 0.05, \"episode\": 1249.375}, {\"rewards\": 0.0, \"episode\": 1269.3650000000016}, {\"rewards\": 0.05, \"episode\": 1289.3549999999996}, {\"rewards\": 0.05, \"episode\": 1309.3449999999975}, {\"rewards\": 0.1, \"episode\": 1329.3349999999991}, {\"rewards\": 0.05, \"episode\": 1349.3250000000007}, {\"rewards\": 0.15, \"episode\": 1369.3149999999987}, {\"rewards\": 0.0, \"episode\": 1389.3050000000003}, {\"rewards\": 0.05, \"episode\": 1409.295000000002}, {\"rewards\": 0.0, \"episode\": 1429.2849999999999}, {\"rewards\": 0.05, \"episode\": 1449.2749999999978}, {\"rewards\": 0.0, \"episode\": 1469.2649999999994}, {\"rewards\": 0.05, \"episode\": 1489.255000000001}, {\"rewards\": 0.0, \"episode\": 1509.244999999999}, {\"rewards\": 0.1, \"episode\": 1529.2350000000006}, {\"rewards\": 0.05, \"episode\": 1549.2250000000022}, {\"rewards\": 0.05, \"episode\": 1569.2150000000001}, {\"rewards\": 0.05, \"episode\": 1589.204999999998}, {\"rewards\": 0.05, \"episode\": 1609.194999999996}, {\"rewards\": 0.1, \"episode\": 1629.184999999994}, {\"rewards\": 0.0, \"episode\": 1649.1749999999956}, {\"rewards\": 0.0, \"episode\": 1669.1650000000009}, {\"rewards\": 0.0, \"episode\": 1689.1549999999988}, {\"rewards\": 0.05, \"episode\": 1709.1449999999968}, {\"rewards\": 0.1, \"episode\": 1729.135000000002}, {\"rewards\": 0.15, \"episode\": 1749.125}, {\"rewards\": 0.15, \"episode\": 1769.114999999998}, {\"rewards\": 0.2, \"episode\": 1789.1050000000032}, {\"rewards\": 0.1, \"episode\": 1809.0950000000012}, {\"rewards\": 0.1, \"episode\": 1829.0849999999991}, {\"rewards\": 0.1, \"episode\": 1849.0750000000044}, {\"rewards\": 0.05, \"episode\": 1869.0650000000023}, {\"rewards\": 0.05, \"episode\": 1889.0550000000003}, {\"rewards\": 0.05, \"episode\": 1909.0449999999983}, {\"rewards\": 0.0, \"episode\": 1929.0349999999962}, {\"rewards\": 0.0, \"episode\": 1949.0250000000015}, {\"rewards\": 0.05, \"episode\": 1969.0149999999994}, {\"rewards\": 0.0, \"episode\": 1989.0049999999974}]}, \"encoding\": {\"y\": {\"field\": \"rewards\", \"scale\": {\"domain\": [0.0, 1.0]}, \"type\": \"quantitative\"}, \"x\": {\"field\": \"episode\", \"type\": \"quantitative\"}}, \"config\": {\"cell\": {\"width\": 500, \"height\": 350}}, \"mark\": \"line\"};\n",
       "var selector = \"#63c56f43-2637-46b5-84f7-eab79d9f7258\";\n",
       "var type = \"vega-lite\";\n",
       "\n",
       "var output_area = this;\n",
       "require(['nbextensions/jupyter-vega/index'], function(vega) {\n",
       "  vega.render(selector, spec, type, output_area);\n",
       "}, function (err) {\n",
       "  if (err.requireType !== 'scripterror') {\n",
       "    throw(err);\n",
       "  }\n",
       "});\n"
      ]
     },
     "metadata": {
      "jupyter-vega": "#63c56f43-2637-46b5-84f7-eab79d9f7258"
     },
     "output_type": "display_data"
    },
    {
     "data": {
      "image/png": "[encoded data removed]"
     },
     "metadata": {
      "jupyter-vega": "#63c56f43-2637-46b5-84f7-eab79d9f7258"
     },
     "output_type": "display_data"
    }
   ],
   "source": [
    "from gym.scoreboard.scoring import compute_graph_stats\n",
    "CURR_EPISODE = 100\n",
    "graphs = compute_graph_stats(results['episode_lengths'], results['episode_rewards'], results['timestamps'], results['initial_reset_timestamp'], CURR_EPISODE)\n",
    "\n",
    "from pandas import DataFrame\n",
    "data = DataFrame({'episode': graphs['x_episode_y_reward']['x'],\n",
    "                  'rewards': graphs['x_episode_y_reward']['y']})\n",
    "\n",
    "from altair import Chart, Y, Scale\n",
    "\n",
    "chart = Chart(data).mark_line().encode(\n",
    "    x='episode',\n",
    "    y='rewards'\n",
    ")\n",
    "chart.encode(Y('rewards', scale=Scale(domain=[0, 1])))"
   ]
  },
  {
   "cell_type": "code",
   "execution_count": null,
   "metadata": {
    "collapsed": true
   },
   "outputs": [],
   "source": []
  },
  {
   "cell_type": "code",
   "execution_count": null,
   "metadata": {
    "collapsed": true
   },
   "outputs": [],
   "source": []
  }
 ],
 "metadata": {
  "anaconda-cloud": {},
  "kernelspec": {
   "display_name": "Python [default]",
   "language": "python",
   "name": "python2"
  },
  "language_info": {
   "codemirror_mode": {
    "name": "ipython",
    "version": 2
   },
   "file_extension": ".py",
   "mimetype": "text/x-python",
   "name": "python",
   "nbconvert_exporter": "python",
   "pygments_lexer": "ipython2",
   "version": "2.7.12"
  }
 },
 "nbformat": 4,
 "nbformat_minor": 1
}
